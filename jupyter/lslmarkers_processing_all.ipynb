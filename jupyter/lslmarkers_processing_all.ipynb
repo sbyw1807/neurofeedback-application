{
 "cells": [
  {
   "cell_type": "code",
   "execution_count": 1,
   "id": "cc7948b3",
   "metadata": {},
   "outputs": [
    {
     "name": "stdout",
     "output_type": "stream",
     "text": [
      "Stream 1\n",
      "Name: gtec_outlet\n",
      "Type: data\n",
      "Channel Count: 19\n",
      "Sample Rate: 500.0000000000000\n",
      "First few samples with timestamps:\n",
      "Timestamp: 1210958.881744105, Sample: [ 6.4996475e+03  2.0095570e+04  1.3525254e+04  1.3737259e+04\n",
      "  1.8782662e+04  1.4230768e+04  9.0856201e+03  2.2365822e+04\n",
      "  1.2099817e+04  1.2996574e+04  9.7298994e+03  1.1804825e+04\n",
      "  1.4847802e+04  1.3789796e+04  1.8356209e+04  1.5310887e+04\n",
      " -1.0950774e-01  1.1889411e+00 -2.1901548e-01]\n",
      "Timestamp: 1210958.8837439844, Sample: [ 6.09197119e+03  1.96766172e+04  1.32860996e+04  1.33115215e+04\n",
      "  1.83701582e+04  1.38236387e+04  8.65320996e+03  2.19553516e+04\n",
      "  1.16914795e+04  1.26018994e+04  9.31895605e+03  1.13919072e+04\n",
      "  1.44251289e+04  1.33849619e+04  1.79423398e+04  1.48837246e+04\n",
      " -1.09507740e-01  1.18894112e+00 -2.19015479e-01]\n",
      "Timestamp: 1210958.8857438636, Sample: [ 5.5205996e+03  1.9090068e+04  1.2858564e+04  1.2727514e+04\n",
      "  1.7792027e+04  1.3253277e+04  8.0608438e+03  2.1380514e+04\n",
      "  1.1120952e+04  1.2026694e+04  8.7460361e+03  1.0812701e+04\n",
      "  1.3838637e+04  1.2811791e+04  1.7375678e+04  1.4286483e+04\n",
      " -1.0950774e-01  1.1889411e+00 -2.1901548e-01]\n",
      "\n",
      "\n",
      "Stream 2\n",
      "Name: AlphaPower\n",
      "Type: Markers\n",
      "Channel Count: 19\n",
      "Sample Rate: 2.000000000000000\n",
      "First few samples with timestamps:\n",
      "Timestamp: 1210959.0895619926, Sample: [2.0727613e+00 1.8634542e+00 9.1566122e-01 1.2723341e+00 1.5954876e+00\n",
      " 1.5436164e+00 1.6937402e+00 1.1610429e+00 2.4563198e+00 2.3101594e+00\n",
      " 3.3099227e+00 4.5267954e+00 3.8356261e+00 3.4138267e+00 1.1635237e+01\n",
      " 4.9088783e+00 1.5659105e-06 6.1601895e-06 5.6865139e-07]\n",
      "Timestamp: 1210959.590067063, Sample: [2.1731148e+00 2.7229338e+00 1.1375502e+00 1.7379022e+00 2.2501101e+00\n",
      " 1.6271946e+00 1.6302248e+00 1.5204650e+00 2.2108357e+00 2.2135227e+00\n",
      " 3.4684856e+00 4.4327788e+00 4.0644221e+00 4.8732018e+00 1.2143440e+01\n",
      " 4.5493212e+00 1.3740554e-06 2.2284610e-06 1.0316854e-06]\n",
      "Timestamp: 1210960.0905721334, Sample: [5.5369582e+00 5.7341361e+00 4.3496661e+00 5.4932537e+00 5.7706413e+00\n",
      " 1.8345381e+00 4.5130043e+00 3.7904503e+00 3.7343383e+00 4.1542072e+00\n",
      " 3.8541181e+00 4.8481569e+00 3.4558423e+00 2.9511924e+00 7.2321544e+00\n",
      " 2.6351628e+00 9.1664708e-07 1.8933547e-06 9.6561178e-07]\n",
      "\n",
      "\n",
      "Stream 3\n",
      "Name: Prompts\n",
      "Type: Markers\n",
      "Channel Count: 1\n",
      "Sample Rate: 0.000000000000000\n",
      "First few samples with timestamps:\n",
      "Timestamp: 1210963.5931393998, Sample: ['Try to decrease your alpha power']\n",
      "Timestamp: 1210973.629218466, Sample: ['Try to increase your alpha power']\n",
      "\n",
      "\n"
     ]
    }
   ],
   "source": [
    "import pyxdf\n",
    "\n",
    "# Path to your XDF file\n",
    "xdf_file_path = '/Users/wanne/OneDrive/Dokumente/CurrentStudy/sub-P001/ses-S001/eeg/sub-P001_ses-S001_task-Default_run-001_eeg.xdf'\n",
    "\n",
    "# Load the XDF file\n",
    "streams, fileheader = pyxdf.load_xdf(xdf_file_path)\n",
    "\n",
    "# Iterate over each stream in the file\n",
    "for i, stream in enumerate(streams):\n",
    "    print(f\"Stream {i+1}\")\n",
    "    print(f\"Name: {stream['info']['name'][0]}\")\n",
    "    print(f\"Type: {stream['info']['type'][0]}\")\n",
    "    print(f\"Channel Count: {stream['info']['channel_count'][0]}\")\n",
    "    print(f\"Sample Rate: {stream['info']['nominal_srate'][0]}\")\n",
    "    print(\"First few samples with timestamps:\")\n",
    "    for sample, timestamp in zip(stream['time_series'][:3], stream['time_stamps'][:3]):  # Adjust the number of samples to display\n",
    "        print(f\"Timestamp: {timestamp}, Sample: {sample}\")\n",
    "    print(\"\\n\")\n",
    "\n"
   ]
  },
  {
   "cell_type": "code",
   "execution_count": null,
   "id": "ff46ca79",
   "metadata": {},
   "outputs": [],
   "source": []
  },
  {
   "cell_type": "code",
   "execution_count": null,
   "id": "2a70a6d4-58e9-49f4-889d-c24bbed57ec7",
   "metadata": {},
   "outputs": [],
   "source": []
  }
 ],
 "metadata": {
  "kernelspec": {
   "display_name": "Python 3 (ipykernel)",
   "language": "python",
   "name": "python3"
  },
  "language_info": {
   "codemirror_mode": {
    "name": "ipython",
    "version": 3
   },
   "file_extension": ".py",
   "mimetype": "text/x-python",
   "name": "python",
   "nbconvert_exporter": "python",
   "pygments_lexer": "ipython3",
   "version": "3.9.18"
  }
 },
 "nbformat": 4,
 "nbformat_minor": 5
}
